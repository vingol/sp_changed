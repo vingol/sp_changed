{
 "cells": [
  {
   "cell_type": "code",
   "execution_count": 1,
   "metadata": {},
   "outputs": [],
   "source": [
    "import os\n",
    "import datetime\n",
    "import numpy as np\n",
    "import pandas as pd\n",
    "from os.path import dirname, abspath\n",
    "from matplotlib import pyplot as plt\n",
    "from sklearn.preprocessing import MinMaxScaler\n",
    "from data_processor import series_to_supervised,evaluate\n",
    "from data_processor import series_to_supervised,evaluate\n",
    "from sklearn.svm import SVR"
   ]
  },
  {
   "cell_type": "code",
   "execution_count": 5,
   "metadata": {},
   "outputs": [],
   "source": [
    "def CF(power, NWP):\n",
    "    cloud = pd.DataFrame(NWP.cloud_amount)\n",
    "    cloud['cloud_diff'] = cloud.diff(1)\n",
    "    cloud = cloud.fillna(0)\n",
    "\n",
    "    cloud['sunny'] = [1 if cloud.cloud_amount[i]<5 and abs(cloud.cloud_diff[i])<1\n",
    "                          else 0\n",
    "                          for i in range(len(cloud))]\n",
    "\n",
    "    cloud = cloud.loc[power.index]\n",
    "\n",
    "    index_sunny = [x for x in cloud[cloud.sunny == 1].index if x < datetime.datetime(2019,1,1)]\n",
    "    index_cloudy = [x for x in cloud[cloud.sunny == 0].index if x < datetime.datetime(2019,1,1)]\n",
    "\n",
    "    power_sunny = power.loc[index_sunny]\n",
    "    power_cloudy = power.loc[index_cloudy]\n",
    "\n",
    "    return index_sunny,index_cloudy"
   ]
  },
  {
   "cell_type": "code",
   "execution_count": 3,
   "metadata": {},
   "outputs": [],
   "source": [
    "names = locals()\n",
    "# load power\n",
    "dir_power = 'power_detrended/'\n",
    "\n",
    "name_index_power = pd.Series(os.listdir(dir_power)).map(lambda x: x[:-4])\n",
    "\n",
    "for i in name_index_power:\n",
    "    filename = dir_power + str(i) + '.csv'\n",
    "    names['data_%s' % i] = pd.read_csv(filename, index_col=3, parse_dates=True)\n",
    "    names['power_%s' % i] = pd.DataFrame(names['data_%s' % i]['power_with_trend'])\n",
    "    names['power_supervised_%s' % i] = series_to_supervised(names['power_%s' % i], 48, 16)\n",
    "\n",
    "# load NWP\n",
    "dir_NWP = 'nwp_refill/'\n",
    "\n",
    "name_index_NWP = list(os.listdir(dir_NWP))\n",
    "name_index_NWP.remove('.DS_Store')\n",
    "name_index_NWP = pd.Series(name_index_NWP).map(lambda x: x[3:-4])\n",
    "\n",
    "for i in name_index_NWP:\n",
    "    filename = dir_NWP + '/CN0' + str(i) + '.csv'\n",
    "    names['NWP_%s' % i] = pd.read_csv(filename, index_col=0, parse_dates=True)"
   ]
  },
  {
   "cell_type": "code",
   "execution_count": 83,
   "metadata": {},
   "outputs": [],
   "source": [
    "cloud = pd.DataFrame(NWP_016.cloud_amount)\n",
    "\n",
    "cloud = cloud.loc[power_66.index]\n",
    "\n",
    "cloud['cloud_diff'] = cloud.diff(1)\n",
    "cloud['power_diff'] = power_66.diff(1)\n",
    "cloud = cloud.fillna(0)\n",
    "\n",
    "cloud['sunny'] = [1 if cloud.cloud_amount[i]<5 and abs(cloud.cloud_diff[i])<1\n",
    "                      else 0\n",
    "                      for i in range(len(cloud))]\n",
    "\n",
    "\n",
    "index_sunny = [x for x in cloud[cloud.sunny == 1].index if x < datetime.datetime(2019,1,1)]\n",
    "index_cloudy = [x for x in cloud[cloud.sunny == 0].index if x < datetime.datetime(2019,1,1)]\n",
    "\n",
    "power_sunny = power_66.loc[index_sunny]\n",
    "power_cloudy = power_66.loc[index_cloudy]"
   ]
  },
  {
   "cell_type": "code",
   "execution_count": 84,
   "metadata": {},
   "outputs": [
    {
     "data": {
      "text/plain": [
       "10805"
      ]
     },
     "execution_count": 84,
     "metadata": {},
     "output_type": "execute_result"
    }
   ],
   "source": [
    "len(index_sunny)"
   ]
  },
  {
   "cell_type": "code",
   "execution_count": 85,
   "metadata": {},
   "outputs": [],
   "source": [
    "power_sunny['date'] = power_sunny.index.date"
   ]
  },
  {
   "cell_type": "code",
   "execution_count": 86,
   "metadata": {},
   "outputs": [],
   "source": [
    "sunnyday = power_sunny.groupby('date').count()>30"
   ]
  },
  {
   "cell_type": "code",
   "execution_count": 87,
   "metadata": {},
   "outputs": [],
   "source": [
    "sunny_index = sunnyday[sunnyday['power_with_trend']==True].index"
   ]
  },
  {
   "cell_type": "code",
   "execution_count": 263,
   "metadata": {},
   "outputs": [
    {
     "name": "stdout",
     "output_type": "stream",
     "text": [
      "2017-12-30\n"
     ]
    }
   ],
   "source": [
    "k=88\n",
    "\n",
    "print(sunny_index[k])"
   ]
  },
  {
   "cell_type": "code",
   "execution_count": 264,
   "metadata": {},
   "outputs": [
    {
     "data": {
      "text/plain": [
       "<matplotlib.axes._subplots.AxesSubplot at 0x1a50dcfeb8>"
      ]
     },
     "execution_count": 264,
     "metadata": {},
     "output_type": "execute_result"
    },
    {
     "data": {
      "image/png": "[encoded data removed]",
      "text/plain": [
       "<Figure size 432x288 with 1 Axes>"
      ]
     },
     "metadata": {
      "needs_background": "light"
     },
     "output_type": "display_data"
    }
   ],
   "source": [
    "power_66[power_66.index.date == sunny_index[k]].plot()"
   ]
  },
  {
   "cell_type": "code",
   "execution_count": 47,
   "metadata": {},
   "outputs": [
    {
     "data": {
      "text/plain": [
       "(2017, 2, 11)"
      ]
     },
     "execution_count": 47,
     "metadata": {},
     "output_type": "execute_result"
    }
   ],
   "source": [
    "[(2017, 1, 8)，(2017, 2, 11)，(2017, 2, 12) ,(2017, 3, 1),(2017, 3, 3),(2017, 4, 22),\n",
    " (2017, 4, 27),(2017, 4, 28),(2017, 5, 25)，(2017, 5, 26),(2017, 6, 16),(2017, 6, 30),\n",
    " (2017, 7, 1),(2017, 7, 30),(2017, 8, 16),(2017, 11, 4)，(2017,9,10), (2017, 10, 12),\n",
    " (2017, 10, 19), (2017, 10, 26),  (2017, 11, 4), (2017, 11, 24)，(2017, 12, 17)，\n",
    " (2017, 12, 20)，(2017, 12, 21)，(2017, 12, 24)，(2017, 12, 26)，(2017, 12, 27)]"
   ]
  },
  {
   "cell_type": "code",
   "execution_count": null,
   "metadata": {},
   "outputs": [],
   "source": [
    "2017, 2, 11 \n",
    "and abs(cloud.power_diff[i]<0.3"
   ]
  }
 ],
 "metadata": {
  "kernelspec": {
   "display_name": "Python 3",
   "language": "python",
   "name": "python3"
  },
  "language_info": {
   "codemirror_mode": {
    "name": "ipython",
    "version": 3
   },
   "file_extension": ".py",
   "mimetype": "text/x-python",
   "name": "python",
   "nbconvert_exporter": "python",
   "pygments_lexer": "ipython3",
   "version": "3.6.9"
  },
  "toc": {
   "base_numbering": 1,
   "nav_menu": {},
   "number_sections": true,
   "sideBar": true,
   "skip_h1_title": false,
   "title_cell": "Table of Contents",
   "title_sidebar": "Contents",
   "toc_cell": false,
   "toc_position": {},
   "toc_section_display": true,
   "toc_window_display": false
  }
 },
 "nbformat": 4,
 "nbformat_minor": 2
}
