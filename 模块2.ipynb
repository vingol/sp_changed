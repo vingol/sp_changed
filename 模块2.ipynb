{
 "cells": [
  {
   "cell_type": "code",
   "execution_count": 1,
   "metadata": {},
   "outputs": [],
   "source": [
    "import os\n",
    "import datetime\n",
    "import numpy as np\n",
    "import pandas as pd\n",
    "from os.path import dirname, abspath\n",
    "from matplotlib import pyplot as plt\n",
    "from sklearn.preprocessing import MinMaxScaler\n",
    "from data_processor import series_to_supervised,evaluate\n",
    "from data_processor import series_to_supervised,evaluate\n",
    "from sklearn.svm import SVR"
   ]
  },
  {
   "cell_type": "code",
   "execution_count": 2,
   "metadata": {},
   "outputs": [
    {
     "name": "stderr",
     "output_type": "stream",
     "text": [
      "Using TensorFlow backend.\n"
     ]
    }
   ],
   "source": [
    "from keras import Sequential\n",
    "from keras.layers import Dense,Dropout\n",
    "from keras.optimizers import Adam\n",
    "from keras.callbacks import TensorBoard, EarlyStopping, ReduceLROnPlateau"
   ]
  },
  {
   "cell_type": "code",
   "execution_count": 5,
   "metadata": {},
   "outputs": [],
   "source": [
    "names = locals()"
   ]
  },
  {
   "cell_type": "markdown",
   "metadata": {},
   "source": [
    "## modules"
   ]
  },
  {
   "cell_type": "markdown",
   "metadata": {},
   "source": [
    "### sample generator"
   ]
  },
  {
   "cell_type": "code",
   "execution_count": 6,
   "metadata": {},
   "outputs": [],
   "source": [
    "def sample_gen(power_train, ):\n",
    "    # normalizaion\n",
    "    index = power.index\n",
    "    scaler = MinMaxScaler(feature_range=(0, 1))\n",
    "    power_normalized = pd.DataFrame(scaler.fit_transform(power))\n",
    "    power_normalized['index'] = index\n",
    "    power_normalized = power_normalized.set_index('index')\n",
    "\n",
    "    power_supervised = series_to_supervised(power_normalized, 48, 16)\n",
    "\n",
    "    index_of_inputs = list(range(16)) + list(range(-1, -9, -1))\n",
    "    inputs = power_supervised.iloc[:, :48]\n",
    "    inputs = inputs.iloc[:,index_of_inputs]\n",
    "    outputs = power_supervised.iloc[:, 48:]\n",
    "    \n",
    "    data_set = []\n",
    "    for i in range(16):\n",
    "        names['output_%s' % str(i + 1)] = outputs.iloc[:, i]\n",
    "        output_set.append(names['output_%s' % str(i + 1)])\n",
    "        \n",
    "    return inputs, output_set, scaler"
   ]
  },
  {
   "cell_type": "markdown",
   "metadata": {},
   "source": [
    "### ANN module"
   ]
  },
  {
   "cell_type": "code",
   "execution_count": 7,
   "metadata": {},
   "outputs": [],
   "source": [
    "def ANN_module(train_input, train_output):\n",
    "    # parameters\n",
    "    \n",
    "    input_len = train_input.shape[1]\n",
    "    output_step = 1\n",
    "    batch_size = 512\n",
    "    epochs = 100\n",
    "    \n",
    "    for i in range(16):\n",
    "        # design network\n",
    "        names['model_%s'%str(i)] = Sequential()\n",
    "\n",
    "        names['model_%s'%str(i)].add(Dense(int(input_len/2), input_dim=input_len, activation='relu'))\n",
    "        names['model_%s'%str(i)].add(Dropout(0.2))\n",
    "\n",
    "        names['model_%s'%str(i)].add(Dense(output_step, activation='relu'))\n",
    "\n",
    "        adam = Adam(lr=0.001)\n",
    "\n",
    "        names['model_%s'%str(i)].compile(loss='mse', optimizer='adam')\n",
    "\n",
    "        history = names['model_%s'%str(i)].fit(train_input, train_output[i],\n",
    "                            batch_size=batch_size,\n",
    "                            epochs=epochs,\n",
    "                            validation_split=0.1,\n",
    "                            callbacks=[\n",
    "                                TensorBoard(log_dir='/tmp/tensorboard', write_graph=True),\n",
    "                                EarlyStopping(monitor='val_loss', patience=5, mode='auto')\n",
    "                            ]\n",
    "                            )\n",
    "        \n",
    "        return names['model_%s'%str(i)]"
   ]
  },
  {
   "cell_type": "markdown",
   "metadata": {},
   "source": [
    "### test module"
   ]
  },
  {
   "cell_type": "code",
   "execution_count": null,
   "metadata": {},
   "outputs": [],
   "source": [
    "def test_module()"
   ]
  }
 ],
 "metadata": {
  "kernelspec": {
   "display_name": "Python 3",
   "language": "python",
   "name": "python3"
  },
  "language_info": {
   "codemirror_mode": {
    "name": "ipython",
    "version": 3
   },
   "file_extension": ".py",
   "mimetype": "text/x-python",
   "name": "python",
   "nbconvert_exporter": "python",
   "pygments_lexer": "ipython3",
   "version": "3.6.9"
  },
  "toc": {
   "base_numbering": 1,
   "nav_menu": {},
   "number_sections": true,
   "sideBar": true,
   "skip_h1_title": false,
   "title_cell": "Table of Contents",
   "title_sidebar": "Contents",
   "toc_cell": false,
   "toc_position": {},
   "toc_section_display": true,
   "toc_window_display": false
  }
 },
 "nbformat": 4,
 "nbformat_minor": 2
}
